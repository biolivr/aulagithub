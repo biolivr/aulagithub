{
  "nbformat": 4,
  "nbformat_minor": 0,
  "metadata": {
    "colab": {
      "provenance": [],
      "authorship_tag": "ABX9TyMHzCPDbas14ekLR3jCl+Sa",
      "include_colab_link": true
    },
    "kernelspec": {
      "name": "python3",
      "display_name": "Python 3"
    },
    "language_info": {
      "name": "python"
    }
  },
  "cells": [
    {
      "cell_type": "markdown",
      "metadata": {
        "id": "view-in-github",
        "colab_type": "text"
      },
      "source": [
        "<a href=\"https://colab.research.google.com/github/biolivr/aulagithub/blob/main/Untitled0.ipynb\" target=\"_parent\"><img src=\"https://colab.research.google.com/assets/colab-badge.svg\" alt=\"Open In Colab\"/></a>"
      ]
    },
    {
      "cell_type": "markdown",
      "source": [
        "Exercicio 1\n"
      ],
      "metadata": {
        "id": "Mb6g5SsJh4qd"
      }
    },
    {
      "cell_type": "code",
      "source": [
        "numero = 47\n",
        "\n",
        "if(numero%2==0):\n",
        "   situacao= \"o numero eh par\"\n",
        "else:\n",
        "   situacao= \"o numero e impar\"\n",
        "print(situacao)"
      ],
      "metadata": {
        "colab": {
          "base_uri": "https://localhost:8080/"
        },
        "id": "NkiuvMVlaCox",
        "outputId": "c87c0eb5-dfaa-4816-dafb-ec73f49d0f49"
      },
      "execution_count": 9,
      "outputs": [
        {
          "output_type": "stream",
          "name": "stdout",
          "text": [
            "o numero e impar\n"
          ]
        }
      ]
    },
    {
      "cell_type": "markdown",
      "source": [
        "Exercicio 2\n"
      ],
      "metadata": {
        "id": "QjgQnIMNh_a4"
      }
    },
    {
      "cell_type": "code",
      "source": [
        "media = 6\n",
        "\n",
        "if (media>= 7.0):\n",
        "    situacao = \"Aprovado\"\n",
        "elif (media>=5.0):\n",
        "    situacao = \" Em recuperacao\"\n",
        "else:\n",
        "     situacao = \"Reprovado\"\n",
        "\n",
        "print(f\"O estudante esta: {situacao}\")\n"
      ],
      "metadata": {
        "colab": {
          "base_uri": "https://localhost:8080/"
        },
        "id": "PAe7wRSqfjO5",
        "outputId": "f87ed629-98c9-44c0-9c05-4689e204f2c1"
      },
      "execution_count": 31,
      "outputs": [
        {
          "output_type": "stream",
          "name": "stdout",
          "text": [
            "O estudante esta:  Em recuperacao\n"
          ]
        }
      ]
    },
    {
      "cell_type": "markdown",
      "source": [
        "Exercicio 3\n"
      ],
      "metadata": {
        "id": "9oirhHHuiDUT"
      }
    },
    {
      "cell_type": "code",
      "source": [
        "valor_unitario = 10\n",
        "DESCONTO10 = 0.1\n",
        "DESCONTO20 = 0.2\n",
        "quantidade = eval(input(\"Digite a quantidade que vai comprar: \"))\n",
        "if(quantidade <= 10):#menor ou igual a 10\n",
        "     valor_final = valor_unitario*quantidade\n",
        "elif(quantidade <= 20):#maior que 10 e menor ou igual a 20\n",
        "     valor_final = valor_unitario*quantidade*(1-DESCONTO10)\n",
        "else:#maior que 20\n",
        "     valor_final = valor_unitario*quantidade*(1-DESCONTO20)\n",
        "print(f'O valor final da compra é: {valor_final}')"
      ],
      "metadata": {
        "colab": {
          "base_uri": "https://localhost:8080/"
        },
        "id": "oTZChFbwhPRf",
        "outputId": "578c2b45-2187-49c9-9420-2e7f382e2482"
      },
      "execution_count": 50,
      "outputs": [
        {
          "output_type": "stream",
          "name": "stdout",
          "text": [
            "Digite a quantidade que vai comprar: 30\n",
            "O valor final da compra é: 240.0\n"
          ]
        }
      ]
    },
    {
      "cell_type": "markdown",
      "source": [
        "Exerc 4\n"
      ],
      "metadata": {
        "id": "9ePm8G13nzPu"
      }
    },
    {
      "cell_type": "code",
      "source": [
        "lista = [10, 2, 5, 7, 6, 3]\n",
        "n=len(lista)\n",
        "soma=0\n",
        "for i in range(n):\n",
        "  if(lista[i]%2==0):\n",
        "     soma=soma+lista[i]\n",
        "\n",
        "print(f'O somatorio dos numeros pares e: {soma }')"
      ],
      "metadata": {
        "id": "WY0LreW8n1Ex",
        "outputId": "e55ae019-0a61-458f-9a90-b514a3f79b7a",
        "colab": {
          "base_uri": "https://localhost:8080/"
        }
      },
      "execution_count": 67,
      "outputs": [
        {
          "output_type": "stream",
          "name": "stdout",
          "text": [
            "O somatorio dos numeros pares e: 18\n"
          ]
        }
      ]
    },
    {
      "cell_type": "code",
      "source": [
        "lista = [10, 2, 5, 7, 6, 3]\n",
        "\n",
        "soma = 0\n",
        "for num in lista:\n",
        "   if(num%2==0):\n",
        "    soma=soma+num\n",
        "print(f'O somatorio dos numeros pares e: {soma}')"
      ],
      "metadata": {
        "id": "6hGlA5D1yYXa",
        "outputId": "0155bb6d-cd6d-401e-9512-5abefc2278ff",
        "colab": {
          "base_uri": "https://localhost:8080/"
        }
      },
      "execution_count": 68,
      "outputs": [
        {
          "output_type": "stream",
          "name": "stdout",
          "text": [
            "O somatorio dos numeros pares e: 18\n"
          ]
        }
      ]
    }
  ]
}